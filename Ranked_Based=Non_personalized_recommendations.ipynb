{
  "nbformat": 4,
  "nbformat_minor": 0,
  "metadata": {
    "colab": {
      "name": " Ranked Based=Non-personalized recommendations.ipynb",
      "provenance": [],
      "authorship_tag": "ABX9TyOZ2msuTBC8GK6sp+4Mh7Q5",
      "include_colab_link": true
    },
    "kernelspec": {
      "name": "python3",
      "display_name": "Python 3"
    },
    "language_info": {
      "name": "python"
    }
  },
  "cells": [
    {
      "cell_type": "markdown",
      "metadata": {
        "id": "view-in-github",
        "colab_type": "text"
      },
      "source": [
        "<a href=\"https://colab.research.google.com/github/sawsanzaky/Netflix-recommending-_RecomenderSystem/blob/main/Ranked_Based%3DNon_personalized_recommendations.ipynb\" target=\"_parent\"><img src=\"https://colab.research.google.com/assets/colab-badge.svg\" alt=\"Open In Colab\"/></a>"
      ]
    },
    {
      "cell_type": "markdown",
      "source": [
        "**Introduction to Recommendation Engines**"
      ],
      "metadata": {
        "id": "D9eMDIpl30a3"
      }
    },
    {
      "cell_type": "code",
      "execution_count": 6,
      "metadata": {
        "id": "4gDjMuWF3xqv"
      },
      "outputs": [],
      "source": [
        "import pandas as pd "
      ]
    },
    {
      "cell_type": "markdown",
      "source": [
        "**Load Dataset**"
      ],
      "metadata": {
        "id": "kPTS7DV48j1q"
      }
    },
    {
      "cell_type": "code",
      "source": [
        "!git clone https://github.com/sawsanzaky/Netflix-recommending-_RecomenderSystem"
      ],
      "metadata": {
        "colab": {
          "base_uri": "https://localhost:8080/"
        },
        "id": "GiGhZa9D33CJ",
        "outputId": "1118e0a9-0ee4-4c8d-d1fd-87916992e9bb"
      },
      "execution_count": 7,
      "outputs": [
        {
          "output_type": "stream",
          "name": "stdout",
          "text": [
            "fatal: destination path 'Netflix-recommending-_RecomenderSystem' already exists and is not an empty directory.\n"
          ]
        }
      ]
    },
    {
      "cell_type": "code",
      "source": [
        "user_ratings_df=pd.read_csv(\"/content/Netflix-recommending-_RecomenderSystem/user_ratings.csv\")"
      ],
      "metadata": {
        "id": "o8akHQOW8wNF"
      },
      "execution_count": 9,
      "outputs": []
    },
    {
      "cell_type": "markdown",
      "source": [
        "**Data Exploratory Analysis**"
      ],
      "metadata": {
        "id": "tVF4YL35EN9k"
      }
    },
    {
      "cell_type": "code",
      "source": [
        "user_ratings_df.head()"
      ],
      "metadata": {
        "colab": {
          "base_uri": "https://localhost:8080/",
          "height": 206
        },
        "id": "0VvWPW2pD_Y3",
        "outputId": "c1d7e4e7-f98a-43ef-ee66-c6c1089973cb"
      },
      "execution_count": 44,
      "outputs": [
        {
          "output_type": "execute_result",
          "data": {
            "text/html": [
              "\n",
              "  <div id=\"df-1f4d4bc8-0392-41fa-83ea-1bae13f0ca9b\">\n",
              "    <div class=\"colab-df-container\">\n",
              "      <div>\n",
              "<style scoped>\n",
              "    .dataframe tbody tr th:only-of-type {\n",
              "        vertical-align: middle;\n",
              "    }\n",
              "\n",
              "    .dataframe tbody tr th {\n",
              "        vertical-align: top;\n",
              "    }\n",
              "\n",
              "    .dataframe thead th {\n",
              "        text-align: right;\n",
              "    }\n",
              "</style>\n",
              "<table border=\"1\" class=\"dataframe\">\n",
              "  <thead>\n",
              "    <tr style=\"text-align: right;\">\n",
              "      <th></th>\n",
              "      <th>userId</th>\n",
              "      <th>movieId</th>\n",
              "      <th>rating</th>\n",
              "      <th>timestamp</th>\n",
              "      <th>title</th>\n",
              "      <th>genres</th>\n",
              "    </tr>\n",
              "  </thead>\n",
              "  <tbody>\n",
              "    <tr>\n",
              "      <th>0</th>\n",
              "      <td>1</td>\n",
              "      <td>1</td>\n",
              "      <td>4.0</td>\n",
              "      <td>964982703</td>\n",
              "      <td>Toy Story (1995)</td>\n",
              "      <td>Adventure|Animation|Children|Comedy|Fantasy</td>\n",
              "    </tr>\n",
              "    <tr>\n",
              "      <th>1</th>\n",
              "      <td>5</td>\n",
              "      <td>1</td>\n",
              "      <td>4.0</td>\n",
              "      <td>847434962</td>\n",
              "      <td>Toy Story (1995)</td>\n",
              "      <td>Adventure|Animation|Children|Comedy|Fantasy</td>\n",
              "    </tr>\n",
              "    <tr>\n",
              "      <th>2</th>\n",
              "      <td>7</td>\n",
              "      <td>1</td>\n",
              "      <td>4.5</td>\n",
              "      <td>1106635946</td>\n",
              "      <td>Toy Story (1995)</td>\n",
              "      <td>Adventure|Animation|Children|Comedy|Fantasy</td>\n",
              "    </tr>\n",
              "    <tr>\n",
              "      <th>3</th>\n",
              "      <td>15</td>\n",
              "      <td>1</td>\n",
              "      <td>2.5</td>\n",
              "      <td>1510577970</td>\n",
              "      <td>Toy Story (1995)</td>\n",
              "      <td>Adventure|Animation|Children|Comedy|Fantasy</td>\n",
              "    </tr>\n",
              "    <tr>\n",
              "      <th>4</th>\n",
              "      <td>17</td>\n",
              "      <td>1</td>\n",
              "      <td>4.5</td>\n",
              "      <td>1305696483</td>\n",
              "      <td>Toy Story (1995)</td>\n",
              "      <td>Adventure|Animation|Children|Comedy|Fantasy</td>\n",
              "    </tr>\n",
              "  </tbody>\n",
              "</table>\n",
              "</div>\n",
              "      <button class=\"colab-df-convert\" onclick=\"convertToInteractive('df-1f4d4bc8-0392-41fa-83ea-1bae13f0ca9b')\"\n",
              "              title=\"Convert this dataframe to an interactive table.\"\n",
              "              style=\"display:none;\">\n",
              "        \n",
              "  <svg xmlns=\"http://www.w3.org/2000/svg\" height=\"24px\"viewBox=\"0 0 24 24\"\n",
              "       width=\"24px\">\n",
              "    <path d=\"M0 0h24v24H0V0z\" fill=\"none\"/>\n",
              "    <path d=\"M18.56 5.44l.94 2.06.94-2.06 2.06-.94-2.06-.94-.94-2.06-.94 2.06-2.06.94zm-11 1L8.5 8.5l.94-2.06 2.06-.94-2.06-.94L8.5 2.5l-.94 2.06-2.06.94zm10 10l.94 2.06.94-2.06 2.06-.94-2.06-.94-.94-2.06-.94 2.06-2.06.94z\"/><path d=\"M17.41 7.96l-1.37-1.37c-.4-.4-.92-.59-1.43-.59-.52 0-1.04.2-1.43.59L10.3 9.45l-7.72 7.72c-.78.78-.78 2.05 0 2.83L4 21.41c.39.39.9.59 1.41.59.51 0 1.02-.2 1.41-.59l7.78-7.78 2.81-2.81c.8-.78.8-2.07 0-2.86zM5.41 20L4 18.59l7.72-7.72 1.47 1.35L5.41 20z\"/>\n",
              "  </svg>\n",
              "      </button>\n",
              "      \n",
              "  <style>\n",
              "    .colab-df-container {\n",
              "      display:flex;\n",
              "      flex-wrap:wrap;\n",
              "      gap: 12px;\n",
              "    }\n",
              "\n",
              "    .colab-df-convert {\n",
              "      background-color: #E8F0FE;\n",
              "      border: none;\n",
              "      border-radius: 50%;\n",
              "      cursor: pointer;\n",
              "      display: none;\n",
              "      fill: #1967D2;\n",
              "      height: 32px;\n",
              "      padding: 0 0 0 0;\n",
              "      width: 32px;\n",
              "    }\n",
              "\n",
              "    .colab-df-convert:hover {\n",
              "      background-color: #E2EBFA;\n",
              "      box-shadow: 0px 1px 2px rgba(60, 64, 67, 0.3), 0px 1px 3px 1px rgba(60, 64, 67, 0.15);\n",
              "      fill: #174EA6;\n",
              "    }\n",
              "\n",
              "    [theme=dark] .colab-df-convert {\n",
              "      background-color: #3B4455;\n",
              "      fill: #D2E3FC;\n",
              "    }\n",
              "\n",
              "    [theme=dark] .colab-df-convert:hover {\n",
              "      background-color: #434B5C;\n",
              "      box-shadow: 0px 1px 3px 1px rgba(0, 0, 0, 0.15);\n",
              "      filter: drop-shadow(0px 1px 2px rgba(0, 0, 0, 0.3));\n",
              "      fill: #FFFFFF;\n",
              "    }\n",
              "  </style>\n",
              "\n",
              "      <script>\n",
              "        const buttonEl =\n",
              "          document.querySelector('#df-1f4d4bc8-0392-41fa-83ea-1bae13f0ca9b button.colab-df-convert');\n",
              "        buttonEl.style.display =\n",
              "          google.colab.kernel.accessAllowed ? 'block' : 'none';\n",
              "\n",
              "        async function convertToInteractive(key) {\n",
              "          const element = document.querySelector('#df-1f4d4bc8-0392-41fa-83ea-1bae13f0ca9b');\n",
              "          const dataTable =\n",
              "            await google.colab.kernel.invokeFunction('convertToInteractive',\n",
              "                                                     [key], {});\n",
              "          if (!dataTable) return;\n",
              "\n",
              "          const docLinkHtml = 'Like what you see? Visit the ' +\n",
              "            '<a target=\"_blank\" href=https://colab.research.google.com/notebooks/data_table.ipynb>data table notebook</a>'\n",
              "            + ' to learn more about interactive tables.';\n",
              "          element.innerHTML = '';\n",
              "          dataTable['output_type'] = 'display_data';\n",
              "          await google.colab.output.renderOutput(dataTable, element);\n",
              "          const docLink = document.createElement('div');\n",
              "          docLink.innerHTML = docLinkHtml;\n",
              "          element.appendChild(docLink);\n",
              "        }\n",
              "      </script>\n",
              "    </div>\n",
              "  </div>\n",
              "  "
            ],
            "text/plain": [
              "   userId  ...                                       genres\n",
              "0       1  ...  Adventure|Animation|Children|Comedy|Fantasy\n",
              "1       5  ...  Adventure|Animation|Children|Comedy|Fantasy\n",
              "2       7  ...  Adventure|Animation|Children|Comedy|Fantasy\n",
              "3      15  ...  Adventure|Animation|Children|Comedy|Fantasy\n",
              "4      17  ...  Adventure|Animation|Children|Comedy|Fantasy\n",
              "\n",
              "[5 rows x 6 columns]"
            ]
          },
          "metadata": {},
          "execution_count": 44
        }
      ]
    },
    {
      "cell_type": "code",
      "source": [
        "user_ratings_df.describe()"
      ],
      "metadata": {
        "colab": {
          "base_uri": "https://localhost:8080/",
          "height": 300
        },
        "id": "b16z3Tn7ELkA",
        "outputId": "b745e6df-baa1-4c95-96e4-5f136e05b7ad"
      },
      "execution_count": 45,
      "outputs": [
        {
          "output_type": "execute_result",
          "data": {
            "text/html": [
              "\n",
              "  <div id=\"df-fbc3a2b1-679f-4f8c-b982-a8553483d0e6\">\n",
              "    <div class=\"colab-df-container\">\n",
              "      <div>\n",
              "<style scoped>\n",
              "    .dataframe tbody tr th:only-of-type {\n",
              "        vertical-align: middle;\n",
              "    }\n",
              "\n",
              "    .dataframe tbody tr th {\n",
              "        vertical-align: top;\n",
              "    }\n",
              "\n",
              "    .dataframe thead th {\n",
              "        text-align: right;\n",
              "    }\n",
              "</style>\n",
              "<table border=\"1\" class=\"dataframe\">\n",
              "  <thead>\n",
              "    <tr style=\"text-align: right;\">\n",
              "      <th></th>\n",
              "      <th>userId</th>\n",
              "      <th>movieId</th>\n",
              "      <th>rating</th>\n",
              "      <th>timestamp</th>\n",
              "    </tr>\n",
              "  </thead>\n",
              "  <tbody>\n",
              "    <tr>\n",
              "      <th>count</th>\n",
              "      <td>100836.000000</td>\n",
              "      <td>100836.000000</td>\n",
              "      <td>100836.000000</td>\n",
              "      <td>1.008360e+05</td>\n",
              "    </tr>\n",
              "    <tr>\n",
              "      <th>mean</th>\n",
              "      <td>326.127564</td>\n",
              "      <td>19435.295718</td>\n",
              "      <td>3.501557</td>\n",
              "      <td>1.205946e+09</td>\n",
              "    </tr>\n",
              "    <tr>\n",
              "      <th>std</th>\n",
              "      <td>182.618491</td>\n",
              "      <td>35530.987199</td>\n",
              "      <td>1.042529</td>\n",
              "      <td>2.162610e+08</td>\n",
              "    </tr>\n",
              "    <tr>\n",
              "      <th>min</th>\n",
              "      <td>1.000000</td>\n",
              "      <td>1.000000</td>\n",
              "      <td>0.500000</td>\n",
              "      <td>8.281246e+08</td>\n",
              "    </tr>\n",
              "    <tr>\n",
              "      <th>25%</th>\n",
              "      <td>177.000000</td>\n",
              "      <td>1199.000000</td>\n",
              "      <td>3.000000</td>\n",
              "      <td>1.019124e+09</td>\n",
              "    </tr>\n",
              "    <tr>\n",
              "      <th>50%</th>\n",
              "      <td>325.000000</td>\n",
              "      <td>2991.000000</td>\n",
              "      <td>3.500000</td>\n",
              "      <td>1.186087e+09</td>\n",
              "    </tr>\n",
              "    <tr>\n",
              "      <th>75%</th>\n",
              "      <td>477.000000</td>\n",
              "      <td>8122.000000</td>\n",
              "      <td>4.000000</td>\n",
              "      <td>1.435994e+09</td>\n",
              "    </tr>\n",
              "    <tr>\n",
              "      <th>max</th>\n",
              "      <td>610.000000</td>\n",
              "      <td>193609.000000</td>\n",
              "      <td>5.000000</td>\n",
              "      <td>1.537799e+09</td>\n",
              "    </tr>\n",
              "  </tbody>\n",
              "</table>\n",
              "</div>\n",
              "      <button class=\"colab-df-convert\" onclick=\"convertToInteractive('df-fbc3a2b1-679f-4f8c-b982-a8553483d0e6')\"\n",
              "              title=\"Convert this dataframe to an interactive table.\"\n",
              "              style=\"display:none;\">\n",
              "        \n",
              "  <svg xmlns=\"http://www.w3.org/2000/svg\" height=\"24px\"viewBox=\"0 0 24 24\"\n",
              "       width=\"24px\">\n",
              "    <path d=\"M0 0h24v24H0V0z\" fill=\"none\"/>\n",
              "    <path d=\"M18.56 5.44l.94 2.06.94-2.06 2.06-.94-2.06-.94-.94-2.06-.94 2.06-2.06.94zm-11 1L8.5 8.5l.94-2.06 2.06-.94-2.06-.94L8.5 2.5l-.94 2.06-2.06.94zm10 10l.94 2.06.94-2.06 2.06-.94-2.06-.94-.94-2.06-.94 2.06-2.06.94z\"/><path d=\"M17.41 7.96l-1.37-1.37c-.4-.4-.92-.59-1.43-.59-.52 0-1.04.2-1.43.59L10.3 9.45l-7.72 7.72c-.78.78-.78 2.05 0 2.83L4 21.41c.39.39.9.59 1.41.59.51 0 1.02-.2 1.41-.59l7.78-7.78 2.81-2.81c.8-.78.8-2.07 0-2.86zM5.41 20L4 18.59l7.72-7.72 1.47 1.35L5.41 20z\"/>\n",
              "  </svg>\n",
              "      </button>\n",
              "      \n",
              "  <style>\n",
              "    .colab-df-container {\n",
              "      display:flex;\n",
              "      flex-wrap:wrap;\n",
              "      gap: 12px;\n",
              "    }\n",
              "\n",
              "    .colab-df-convert {\n",
              "      background-color: #E8F0FE;\n",
              "      border: none;\n",
              "      border-radius: 50%;\n",
              "      cursor: pointer;\n",
              "      display: none;\n",
              "      fill: #1967D2;\n",
              "      height: 32px;\n",
              "      padding: 0 0 0 0;\n",
              "      width: 32px;\n",
              "    }\n",
              "\n",
              "    .colab-df-convert:hover {\n",
              "      background-color: #E2EBFA;\n",
              "      box-shadow: 0px 1px 2px rgba(60, 64, 67, 0.3), 0px 1px 3px 1px rgba(60, 64, 67, 0.15);\n",
              "      fill: #174EA6;\n",
              "    }\n",
              "\n",
              "    [theme=dark] .colab-df-convert {\n",
              "      background-color: #3B4455;\n",
              "      fill: #D2E3FC;\n",
              "    }\n",
              "\n",
              "    [theme=dark] .colab-df-convert:hover {\n",
              "      background-color: #434B5C;\n",
              "      box-shadow: 0px 1px 3px 1px rgba(0, 0, 0, 0.15);\n",
              "      filter: drop-shadow(0px 1px 2px rgba(0, 0, 0, 0.3));\n",
              "      fill: #FFFFFF;\n",
              "    }\n",
              "  </style>\n",
              "\n",
              "      <script>\n",
              "        const buttonEl =\n",
              "          document.querySelector('#df-fbc3a2b1-679f-4f8c-b982-a8553483d0e6 button.colab-df-convert');\n",
              "        buttonEl.style.display =\n",
              "          google.colab.kernel.accessAllowed ? 'block' : 'none';\n",
              "\n",
              "        async function convertToInteractive(key) {\n",
              "          const element = document.querySelector('#df-fbc3a2b1-679f-4f8c-b982-a8553483d0e6');\n",
              "          const dataTable =\n",
              "            await google.colab.kernel.invokeFunction('convertToInteractive',\n",
              "                                                     [key], {});\n",
              "          if (!dataTable) return;\n",
              "\n",
              "          const docLinkHtml = 'Like what you see? Visit the ' +\n",
              "            '<a target=\"_blank\" href=https://colab.research.google.com/notebooks/data_table.ipynb>data table notebook</a>'\n",
              "            + ' to learn more about interactive tables.';\n",
              "          element.innerHTML = '';\n",
              "          dataTable['output_type'] = 'display_data';\n",
              "          await google.colab.output.renderOutput(dataTable, element);\n",
              "          const docLink = document.createElement('div');\n",
              "          docLink.innerHTML = docLinkHtml;\n",
              "          element.appendChild(docLink);\n",
              "        }\n",
              "      </script>\n",
              "    </div>\n",
              "  </div>\n",
              "  "
            ],
            "text/plain": [
              "              userId        movieId         rating     timestamp\n",
              "count  100836.000000  100836.000000  100836.000000  1.008360e+05\n",
              "mean      326.127564   19435.295718       3.501557  1.205946e+09\n",
              "std       182.618491   35530.987199       1.042529  2.162610e+08\n",
              "min         1.000000       1.000000       0.500000  8.281246e+08\n",
              "25%       177.000000    1199.000000       3.000000  1.019124e+09\n",
              "50%       325.000000    2991.000000       3.500000  1.186087e+09\n",
              "75%       477.000000    8122.000000       4.000000  1.435994e+09\n",
              "max       610.000000  193609.000000       5.000000  1.537799e+09"
            ]
          },
          "metadata": {},
          "execution_count": 45
        }
      ]
    },
    {
      "cell_type": "code",
      "source": [
        "user_ratings_df.info()"
      ],
      "metadata": {
        "colab": {
          "base_uri": "https://localhost:8080/"
        },
        "id": "2RuVg_IeGZ-U",
        "outputId": "f6ea99c9-a692-4aec-d6fc-0ccc69e0f5f9"
      },
      "execution_count": 46,
      "outputs": [
        {
          "output_type": "stream",
          "name": "stdout",
          "text": [
            "<class 'pandas.core.frame.DataFrame'>\n",
            "RangeIndex: 100836 entries, 0 to 100835\n",
            "Data columns (total 6 columns):\n",
            " #   Column     Non-Null Count   Dtype  \n",
            "---  ------     --------------   -----  \n",
            " 0   userId     100836 non-null  int64  \n",
            " 1   movieId    100836 non-null  int64  \n",
            " 2   rating     100836 non-null  float64\n",
            " 3   timestamp  100836 non-null  int64  \n",
            " 4   title      100836 non-null  object \n",
            " 5   genres     100836 non-null  object \n",
            "dtypes: float64(1), int64(3), object(2)\n",
            "memory usage: 4.6+ MB\n"
          ]
        }
      ]
    },
    {
      "cell_type": "markdown",
      "source": [
        "**Non-personalized recommendations** "
      ],
      "metadata": {
        "id": "NiE9L3hBH1M8"
      }
    },
    {
      "cell_type": "code",
      "source": [
        "# Get the counts of occurrences of each movie title\n",
        "movie_popularity = user_ratings_df[\"title\"].value_counts()\n",
        "\n",
        "# Inspect the most common values\n",
        "print(movie_popularity.head().index)"
      ],
      "metadata": {
        "colab": {
          "base_uri": "https://localhost:8080/"
        },
        "id": "1teU68WxGfSe",
        "outputId": "90cfabbd-b4d5-41f6-b93a-7df46288a08e"
      },
      "execution_count": 47,
      "outputs": [
        {
          "output_type": "stream",
          "name": "stdout",
          "text": [
            "Index(['Forrest Gump (1994)', 'Shawshank Redemption, The (1994)',\n",
            "       'Pulp Fiction (1994)', 'Silence of the Lambs, The (1991)',\n",
            "       'Matrix, The (1999)'],\n",
            "      dtype='object')\n"
          ]
        }
      ]
    },
    {
      "cell_type": "code",
      "source": [
        "# Find the mean of the ratings given to each title\n",
        "average_rating_df = user_ratings_df[[\"title\", \"rating\"]].groupby('title').mean()\n",
        "\n",
        "# Order the entries by highest average rating to lowest\n",
        "sorted_average_ratings = average_rating_df.sort_values(by=\"rating\", ascending=False)\n",
        "\n",
        "# Inspect the top movies\n",
        "print(sorted_average_ratings.head())"
      ],
      "metadata": {
        "colab": {
          "base_uri": "https://localhost:8080/"
        },
        "id": "NzWTdDI9Gy_8",
        "outputId": "ee15fe14-fb4d-4e2a-f365-c2bb53ea7e39"
      },
      "execution_count": 48,
      "outputs": [
        {
          "output_type": "stream",
          "name": "stdout",
          "text": [
            "                                     rating\n",
            "title                                      \n",
            "Gena the Crocodile (1969)               5.0\n",
            "True Stories (1986)                     5.0\n",
            "Cosmic Scrat-tastrophe (2015)           5.0\n",
            "Love and Pigeons (1985)                 5.0\n",
            "Red Sorghum (Hong gao liang) (1987)     5.0\n"
          ]
        }
      ]
    },
    {
      "cell_type": "code",
      "source": [
        "# Create a list of only movies appearing > 50 times in the dataset\n",
        "movie_popularity = user_ratings_df[\"title\"].value_counts()\n",
        "popular_movies = movie_popularity[movie_popularity > 50].index\n",
        "\n",
        "print(popular_movies)"
      ],
      "metadata": {
        "colab": {
          "base_uri": "https://localhost:8080/"
        },
        "id": "fIj_TadfHBxG",
        "outputId": "b2c0f214-221a-4ed7-a55d-2e2f19718872"
      },
      "execution_count": 49,
      "outputs": [
        {
          "output_type": "stream",
          "name": "stdout",
          "text": [
            "Index(['Forrest Gump (1994)', 'Shawshank Redemption, The (1994)',\n",
            "       'Pulp Fiction (1994)', 'Silence of the Lambs, The (1991)',\n",
            "       'Matrix, The (1999)', 'Star Wars: Episode IV - A New Hope (1977)',\n",
            "       'Jurassic Park (1993)', 'Braveheart (1995)',\n",
            "       'Terminator 2: Judgment Day (1991)', 'Schindler's List (1993)',\n",
            "       ...\n",
            "       'Caddyshack (1980)', 'Grumpier Old Men (1995)',\n",
            "       'Grand Budapest Hotel, The (2014)', 'Bad Boys (1995)', 'Blow (2001)',\n",
            "       'Mulholland Drive (2001)', 'The Devil's Advocate (1997)',\n",
            "       'Splash (1984)', 'Training Day (2001)', 'Army of Darkness (1993)'],\n",
            "      dtype='object', length=437)\n"
          ]
        }
      ]
    },
    {
      "cell_type": "code",
      "source": [
        "# Use this popular_movies list to filter the original DataFrame\n",
        "popular_movies_rankings = user_ratings_df[user_ratings_df[\"title\"].isin(popular_movies)]\n",
        "\n",
        "# Inspect the movies watched over 50 times\n",
        "print(popular_movies_rankings)"
      ],
      "metadata": {
        "colab": {
          "base_uri": "https://localhost:8080/"
        },
        "id": "P828k40iHIRr",
        "outputId": "67f296aa-e721-44b3-9e48-0c2c5b4d6316"
      },
      "execution_count": 50,
      "outputs": [
        {
          "output_type": "stream",
          "name": "stdout",
          "text": [
            "       userId  ...                                       genres\n",
            "0           1  ...  Adventure|Animation|Children|Comedy|Fantasy\n",
            "1           5  ...  Adventure|Animation|Children|Comedy|Fantasy\n",
            "2           7  ...  Adventure|Animation|Children|Comedy|Fantasy\n",
            "3          15  ...  Adventure|Animation|Children|Comedy|Fantasy\n",
            "4          17  ...  Adventure|Animation|Children|Comedy|Fantasy\n",
            "...       ...  ...                                          ...\n",
            "79246     603  ...                               Horror|Mystery\n",
            "79247     606  ...                               Horror|Mystery\n",
            "79248     607  ...                               Horror|Mystery\n",
            "79249     608  ...                               Horror|Mystery\n",
            "79250     610  ...                               Horror|Mystery\n",
            "\n",
            "[40712 rows x 6 columns]\n"
          ]
        }
      ]
    },
    {
      "cell_type": "code",
      "source": [
        "# Find the average rating given to these frequently watched films\n",
        "popular_movies_average_rankings = popular_movies_rankings[[\"title\", \"rating\"]].groupby('title').mean()\n",
        "print(popular_movies_average_rankings.sort_values(by=\"rating\", ascending=False).head())"
      ],
      "metadata": {
        "colab": {
          "base_uri": "https://localhost:8080/"
        },
        "id": "jlqW_q0zHTlx",
        "outputId": "03acb8e8-0af5-43bc-e78f-08bfc1f3d96f"
      },
      "execution_count": 51,
      "outputs": [
        {
          "output_type": "stream",
          "name": "stdout",
          "text": [
            "                                                      rating\n",
            "title                                                       \n",
            "Shawshank Redemption, The (1994)                    4.429022\n",
            "Godfather, The (1972)                               4.289062\n",
            "Fight Club (1999)                                   4.272936\n",
            "Cool Hand Luke (1967)                               4.271930\n",
            "Dr. Strangelove or: How I Learned to Stop Worry...  4.268041\n"
          ]
        }
      ]
    },
    {
      "cell_type": "markdown",
      "source": [
        "**Finding all pairs of movies**"
      ],
      "metadata": {
        "id": "P4uHHzI-IO04"
      }
    },
    {
      "cell_type": "code",
      "source": [
        "from itertools import permutations\n",
        "\n",
        "# Create the function to find all permutations\n",
        "def find_movie_pairs(x):\n",
        "  pairs = pd.DataFrame(list(permutations(x.values, 2)),\n",
        "                       columns=['movie_a', 'movie_b'])\n",
        "  return pairs\n",
        "\n",
        "# Apply the function to the title column and reset the index\n",
        "movie_combinations = user_ratings_df.groupby('userId')['title'].apply(\n",
        "  find_movie_pairs).reset_index(drop=True)\n",
        "\n",
        "print(movie_combinations)"
      ],
      "metadata": {
        "colab": {
          "base_uri": "https://localhost:8080/"
        },
        "id": "K_NP58kJHdyY",
        "outputId": "4e6de744-cefa-4be6-c40d-f075fa9091ef"
      },
      "execution_count": 65,
      "outputs": [
        {
          "output_type": "stream",
          "name": "stdout",
          "text": [
            "                   movie_a                           movie_b\n",
            "0         Toy Story (1995)           Grumpier Old Men (1995)\n",
            "1         Toy Story (1995)                       Heat (1995)\n",
            "2         Toy Story (1995)       Seven (a.k.a. Se7en) (1995)\n",
            "3         Toy Story (1995)        Usual Suspects, The (1995)\n",
            "4         Toy Story (1995)        From Dusk Till Dawn (1996)\n",
            "...                    ...                               ...\n",
            "60793295         31 (2016)                 Gen-X Cops (1999)\n",
            "60793296         31 (2016)                  Bloodmoon (1997)\n",
            "60793297         31 (2016)  Sympathy for the Underdog (1971)\n",
            "60793298         31 (2016)                     Hazard (2005)\n",
            "60793299         31 (2016)                Blair Witch (2016)\n",
            "\n",
            "[60793300 rows x 2 columns]\n"
          ]
        }
      ]
    },
    {
      "cell_type": "code",
      "source": [
        "#Remove the nested index that has been created during the aggregation\n",
        "from itertools import permutations\n",
        "\n",
        "# Create the function to find all permutations\n",
        "def find_movie_pairs(x):\n",
        "  pairs = pd.DataFrame(list(permutations(x.values, 2)),\n",
        "                       columns=['movie_a', 'movie_b'])\n",
        "  return pairs\n",
        "\n",
        "# Apply the function to the title column and reset the index\n",
        "movie_combinations = user_ratings_df.groupby('userId')['title'].apply(\n",
        "  find_movie_pairs).reset_index(drop=True)\n",
        "\n",
        "#print(movie_combinations)\n",
        "find_movie_pairs()"
      ],
      "metadata": {
        "colab": {
          "base_uri": "https://localhost:8080/"
        },
        "id": "UoCI2-b8IQyQ",
        "outputId": "4f0f4a98-4f6b-491d-fbaa-d246dff48f6f"
      },
      "execution_count": 67,
      "outputs": [
        {
          "output_type": "execute_result",
          "data": {
            "text/plain": [
              "<function __main__.find_movie_pairs>"
            ]
          },
          "metadata": {},
          "execution_count": 67
        }
      ]
    },
    {
      "cell_type": "markdown",
      "source": [
        "**Counting up the pairs**"
      ],
      "metadata": {
        "id": "ndnXbga8I5w0"
      }
    },
    {
      "cell_type": "code",
      "source": [
        "# Calculate how often each item in movies_a occurs with the items in movies_b\n",
        "combination_counts = movie_combinations.groupby(['movie_a', 'movie_b']).size()\n",
        "\n",
        "# Inspect the results\n",
        "print(combination_counts.head())"
      ],
      "metadata": {
        "colab": {
          "base_uri": "https://localhost:8080/"
        },
        "id": "yw5xedjLIqC6",
        "outputId": "476565f0-cebc-4dcd-9e67-9853622fa5e0"
      },
      "execution_count": 54,
      "outputs": [
        {
          "output_type": "stream",
          "name": "stdout",
          "text": [
            "movie_a     movie_b                                   \n",
            "'71 (2014)  (500) Days of Summer (2009)                   1\n",
            "            10 Cloverfield Lane (2016)                    1\n",
            "            127 Hours (2010)                              1\n",
            "            13 Assassins (Jûsan-nin no shikaku) (2010)    1\n",
            "            13 Hours (2016)                               1\n",
            "dtype: int64\n"
          ]
        }
      ]
    },
    {
      "cell_type": "code",
      "source": [
        "# Calculate how often each item in movie_a occurs with the items in movie_b\n",
        "combination_counts = movie_combinations.groupby(['movie_a', 'movie_b']).size()\n",
        "\n",
        "# Convert the results to a DataFrame and reset the index\n",
        "combination_counts_df = combination_counts.to_frame(name='size').reset_index()\n",
        "print(combination_counts_df.head())"
      ],
      "metadata": {
        "colab": {
          "base_uri": "https://localhost:8080/"
        },
        "id": "ncoXEwBNJAvS",
        "outputId": "5b9e96a8-c5c6-47b5-dcfa-d7fb836a7256"
      },
      "execution_count": 55,
      "outputs": [
        {
          "output_type": "stream",
          "name": "stdout",
          "text": [
            "      movie_a                                     movie_b  size\n",
            "0  '71 (2014)                 (500) Days of Summer (2009)     1\n",
            "1  '71 (2014)                  10 Cloverfield Lane (2016)     1\n",
            "2  '71 (2014)                            127 Hours (2010)     1\n",
            "3  '71 (2014)  13 Assassins (Jûsan-nin no shikaku) (2010)     1\n",
            "4  '71 (2014)                             13 Hours (2016)     1\n"
          ]
        }
      ]
    },
    {
      "cell_type": "markdown",
      "source": [
        "**Making the first movie recommendations _ Non-Personalized = Ranked Based**"
      ],
      "metadata": {
        "id": "EI8dPSgFJTlX"
      }
    },
    {
      "cell_type": "code",
      "source": [
        "import matplotlib.pyplot as plt\n",
        "\n",
        "# Sort the counts from highest to lowest\n",
        "combination_counts_df.sort_values('size', ascending=False, inplace=True)\n",
        "\n",
        "# Find the movies most frequently watched by people who watched Thor\n",
        "thor_df = combination_counts_df[combination_counts_df['movie_a'] == 'Thor']\n",
        "\n",
        "# Plot the results\n",
        "thor_df.plot.bar(x=\"movie_b\")\n",
        "plt.show()"
      ],
      "metadata": {
        "id": "bPmHHj-NJJQx"
      },
      "execution_count": 71,
      "outputs": []
    }
  ]
}